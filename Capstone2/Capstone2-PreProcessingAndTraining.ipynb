{
 "cells": [
  {
   "cell_type": "raw",
   "id": "purple-stream",
   "metadata": {},
   "source": [
    "The goal of the preprocessing work is to prepare your data\n",
    "for fitting models. If you identified some categorical features in your dataset in the EDA\n",
    "step, now is the time to create dummy features to allow for the inclusion of those\n",
    "features in your model development. Additionally, standardizing your features numeric\n",
    "magnitude and creating train and test splits happen in this step. You may want to save a\n",
    "version of your clean, preprocessed data frame as a CSV to access later. "
   ]
  },
  {
   "cell_type": "markdown",
   "id": "figured-wyoming",
   "metadata": {},
   "source": [
    "Historical sales data,from  2010-02-05(2010Feb) to around 2012-11-01(2012Nov). "
   ]
  },
  {
   "cell_type": "code",
   "execution_count": 1,
   "id": "exciting-adelaide",
   "metadata": {},
   "outputs": [],
   "source": [
    "import pandas as pd\n",
    "import numpy as np\n",
    "import os\n",
    "import matplotlib.pyplot as plt\n",
    "import seaborn as sns\n",
    "from sklearn import __version__ as sklearn_version\n",
    "from sklearn.decomposition import PCA\n",
    "from sklearn.preprocessing import scale\n",
    "from sklearn.model_selection import train_test_split, cross_validate, GridSearchCV, learning_curve\n",
    "from sklearn.preprocessing import StandardScaler, MinMaxScaler\n",
    "from sklearn.dummy import DummyRegressor\n",
    "from sklearn.linear_model import LinearRegression\n",
    "from sklearn.ensemble import RandomForestRegressor\n",
    "from sklearn.metrics import r2_score, mean_squared_error, mean_absolute_error\n",
    "from sklearn.pipeline import make_pipeline\n",
    "from sklearn.impute import SimpleImputer\n",
    "from sklearn.feature_selection import SelectKBest, f_regression\n",
    "import datetime"
   ]
  },
  {
   "cell_type": "code",
   "execution_count": 2,
   "id": "directed-monthly",
   "metadata": {},
   "outputs": [],
   "source": [
    "#%load_ext autoreload\n",
    "#%autoreload 2"
   ]
  },
  {
   "cell_type": "markdown",
   "id": "absolute-spyware",
   "metadata": {},
   "source": [
    "#### Load the data"
   ]
  },
  {
   "cell_type": "code",
   "execution_count": 3,
   "id": "dutch-elements",
   "metadata": {},
   "outputs": [],
   "source": [
    "retail_data = pd.read_csv('/Users/jisasv1/Documents/dataScience/Datasets/Capstone2Data/retail_data_eda.csv')"
   ]
  },
  {
   "cell_type": "code",
   "execution_count": 4,
   "id": "floating-syndication",
   "metadata": {},
   "outputs": [
    {
     "data": {
      "text/plain": [
       "(421570, 22)"
      ]
     },
     "execution_count": 4,
     "metadata": {},
     "output_type": "execute_result"
    }
   ],
   "source": [
    "retail_data.shape"
   ]
  },
  {
   "cell_type": "code",
   "execution_count": 5,
   "id": "lonely-orchestra",
   "metadata": {},
   "outputs": [
    {
     "data": {
      "text/html": [
       "<div>\n",
       "<style scoped>\n",
       "    .dataframe tbody tr th:only-of-type {\n",
       "        vertical-align: middle;\n",
       "    }\n",
       "\n",
       "    .dataframe tbody tr th {\n",
       "        vertical-align: top;\n",
       "    }\n",
       "\n",
       "    .dataframe thead th {\n",
       "        text-align: right;\n",
       "    }\n",
       "</style>\n",
       "<table border=\"1\" class=\"dataframe\">\n",
       "  <thead>\n",
       "    <tr style=\"text-align: right;\">\n",
       "      <th></th>\n",
       "      <th>Unnamed: 0</th>\n",
       "      <th>Store</th>\n",
       "      <th>Dept</th>\n",
       "      <th>Date</th>\n",
       "      <th>Weekly_Sales</th>\n",
       "      <th>IsHoliday_x</th>\n",
       "      <th>Type</th>\n",
       "      <th>Size</th>\n",
       "      <th>Temperature</th>\n",
       "      <th>Fuel_Price</th>\n",
       "      <th>...</th>\n",
       "      <th>MarkDown3</th>\n",
       "      <th>MarkDown4</th>\n",
       "      <th>MarkDown5</th>\n",
       "      <th>CPI</th>\n",
       "      <th>Unemployment</th>\n",
       "      <th>IsHoliday_y</th>\n",
       "      <th>Month</th>\n",
       "      <th>AvgWeeklySalesperStore</th>\n",
       "      <th>AvgWeeklySalesperDept</th>\n",
       "      <th>AverageMonthlySales</th>\n",
       "    </tr>\n",
       "  </thead>\n",
       "  <tbody>\n",
       "    <tr>\n",
       "      <th>0</th>\n",
       "      <td>0</td>\n",
       "      <td>1</td>\n",
       "      <td>1</td>\n",
       "      <td>2010-02-05</td>\n",
       "      <td>24924.50</td>\n",
       "      <td>False</td>\n",
       "      <td>A</td>\n",
       "      <td>151315</td>\n",
       "      <td>42.31</td>\n",
       "      <td>2.572</td>\n",
       "      <td>...</td>\n",
       "      <td>0.0</td>\n",
       "      <td>0.0</td>\n",
       "      <td>0.0</td>\n",
       "      <td>211.096358</td>\n",
       "      <td>8.106</td>\n",
       "      <td>False</td>\n",
       "      <td>2</td>\n",
       "      <td>21710.543621</td>\n",
       "      <td>19213.485088</td>\n",
       "      <td>16008.779217</td>\n",
       "    </tr>\n",
       "    <tr>\n",
       "      <th>1</th>\n",
       "      <td>1</td>\n",
       "      <td>1</td>\n",
       "      <td>2</td>\n",
       "      <td>2010-02-05</td>\n",
       "      <td>50605.27</td>\n",
       "      <td>False</td>\n",
       "      <td>A</td>\n",
       "      <td>151315</td>\n",
       "      <td>42.31</td>\n",
       "      <td>2.572</td>\n",
       "      <td>...</td>\n",
       "      <td>0.0</td>\n",
       "      <td>0.0</td>\n",
       "      <td>0.0</td>\n",
       "      <td>211.096358</td>\n",
       "      <td>8.106</td>\n",
       "      <td>False</td>\n",
       "      <td>2</td>\n",
       "      <td>21710.543621</td>\n",
       "      <td>43607.020113</td>\n",
       "      <td>16008.779217</td>\n",
       "    </tr>\n",
       "    <tr>\n",
       "      <th>2</th>\n",
       "      <td>2</td>\n",
       "      <td>1</td>\n",
       "      <td>3</td>\n",
       "      <td>2010-02-05</td>\n",
       "      <td>13740.12</td>\n",
       "      <td>False</td>\n",
       "      <td>A</td>\n",
       "      <td>151315</td>\n",
       "      <td>42.31</td>\n",
       "      <td>2.572</td>\n",
       "      <td>...</td>\n",
       "      <td>0.0</td>\n",
       "      <td>0.0</td>\n",
       "      <td>0.0</td>\n",
       "      <td>211.096358</td>\n",
       "      <td>8.106</td>\n",
       "      <td>False</td>\n",
       "      <td>2</td>\n",
       "      <td>21710.543621</td>\n",
       "      <td>11793.698516</td>\n",
       "      <td>16008.779217</td>\n",
       "    </tr>\n",
       "    <tr>\n",
       "      <th>3</th>\n",
       "      <td>3</td>\n",
       "      <td>1</td>\n",
       "      <td>4</td>\n",
       "      <td>2010-02-05</td>\n",
       "      <td>39954.04</td>\n",
       "      <td>False</td>\n",
       "      <td>A</td>\n",
       "      <td>151315</td>\n",
       "      <td>42.31</td>\n",
       "      <td>2.572</td>\n",
       "      <td>...</td>\n",
       "      <td>0.0</td>\n",
       "      <td>0.0</td>\n",
       "      <td>0.0</td>\n",
       "      <td>211.096358</td>\n",
       "      <td>8.106</td>\n",
       "      <td>False</td>\n",
       "      <td>2</td>\n",
       "      <td>21710.543621</td>\n",
       "      <td>25974.630238</td>\n",
       "      <td>16008.779217</td>\n",
       "    </tr>\n",
       "    <tr>\n",
       "      <th>4</th>\n",
       "      <td>4</td>\n",
       "      <td>1</td>\n",
       "      <td>5</td>\n",
       "      <td>2010-02-05</td>\n",
       "      <td>32229.38</td>\n",
       "      <td>False</td>\n",
       "      <td>A</td>\n",
       "      <td>151315</td>\n",
       "      <td>42.31</td>\n",
       "      <td>2.572</td>\n",
       "      <td>...</td>\n",
       "      <td>0.0</td>\n",
       "      <td>0.0</td>\n",
       "      <td>0.0</td>\n",
       "      <td>211.096358</td>\n",
       "      <td>8.106</td>\n",
       "      <td>False</td>\n",
       "      <td>2</td>\n",
       "      <td>21710.543621</td>\n",
       "      <td>21365.583515</td>\n",
       "      <td>16008.779217</td>\n",
       "    </tr>\n",
       "  </tbody>\n",
       "</table>\n",
       "<p>5 rows × 22 columns</p>\n",
       "</div>"
      ],
      "text/plain": [
       "   Unnamed: 0  Store  Dept        Date  Weekly_Sales  IsHoliday_x Type  \\\n",
       "0           0      1     1  2010-02-05      24924.50        False    A   \n",
       "1           1      1     2  2010-02-05      50605.27        False    A   \n",
       "2           2      1     3  2010-02-05      13740.12        False    A   \n",
       "3           3      1     4  2010-02-05      39954.04        False    A   \n",
       "4           4      1     5  2010-02-05      32229.38        False    A   \n",
       "\n",
       "     Size  Temperature  Fuel_Price  ...  MarkDown3  MarkDown4  MarkDown5  \\\n",
       "0  151315        42.31       2.572  ...        0.0        0.0        0.0   \n",
       "1  151315        42.31       2.572  ...        0.0        0.0        0.0   \n",
       "2  151315        42.31       2.572  ...        0.0        0.0        0.0   \n",
       "3  151315        42.31       2.572  ...        0.0        0.0        0.0   \n",
       "4  151315        42.31       2.572  ...        0.0        0.0        0.0   \n",
       "\n",
       "          CPI  Unemployment  IsHoliday_y  Month  AvgWeeklySalesperStore  \\\n",
       "0  211.096358         8.106        False      2            21710.543621   \n",
       "1  211.096358         8.106        False      2            21710.543621   \n",
       "2  211.096358         8.106        False      2            21710.543621   \n",
       "3  211.096358         8.106        False      2            21710.543621   \n",
       "4  211.096358         8.106        False      2            21710.543621   \n",
       "\n",
       "   AvgWeeklySalesperDept  AverageMonthlySales  \n",
       "0           19213.485088         16008.779217  \n",
       "1           43607.020113         16008.779217  \n",
       "2           11793.698516         16008.779217  \n",
       "3           25974.630238         16008.779217  \n",
       "4           21365.583515         16008.779217  \n",
       "\n",
       "[5 rows x 22 columns]"
      ]
     },
     "execution_count": 5,
     "metadata": {},
     "output_type": "execute_result"
    }
   ],
   "source": [
    "retail_data.head()"
   ]
  },
  {
   "cell_type": "raw",
   "id": "surprising-baker",
   "metadata": {},
   "source": [
    "Let's drop the Unnamed: 0 column. It's not necessary"
   ]
  },
  {
   "cell_type": "code",
   "execution_count": 6,
   "id": "worst-gossip",
   "metadata": {},
   "outputs": [],
   "source": [
    "retail_data.drop(['Unnamed: 0'], axis=1, inplace=True) # pls specify inplace=True to do operation inplace."
   ]
  },
  {
   "cell_type": "code",
   "execution_count": 7,
   "id": "adaptive-queue",
   "metadata": {},
   "outputs": [
    {
     "data": {
      "text/html": [
       "<div>\n",
       "<style scoped>\n",
       "    .dataframe tbody tr th:only-of-type {\n",
       "        vertical-align: middle;\n",
       "    }\n",
       "\n",
       "    .dataframe tbody tr th {\n",
       "        vertical-align: top;\n",
       "    }\n",
       "\n",
       "    .dataframe thead th {\n",
       "        text-align: right;\n",
       "    }\n",
       "</style>\n",
       "<table border=\"1\" class=\"dataframe\">\n",
       "  <thead>\n",
       "    <tr style=\"text-align: right;\">\n",
       "      <th></th>\n",
       "      <th>Store</th>\n",
       "      <th>Dept</th>\n",
       "      <th>Date</th>\n",
       "      <th>Weekly_Sales</th>\n",
       "      <th>IsHoliday_x</th>\n",
       "      <th>Type</th>\n",
       "      <th>Size</th>\n",
       "      <th>Temperature</th>\n",
       "      <th>Fuel_Price</th>\n",
       "      <th>MarkDown1</th>\n",
       "      <th>...</th>\n",
       "      <th>MarkDown3</th>\n",
       "      <th>MarkDown4</th>\n",
       "      <th>MarkDown5</th>\n",
       "      <th>CPI</th>\n",
       "      <th>Unemployment</th>\n",
       "      <th>IsHoliday_y</th>\n",
       "      <th>Month</th>\n",
       "      <th>AvgWeeklySalesperStore</th>\n",
       "      <th>AvgWeeklySalesperDept</th>\n",
       "      <th>AverageMonthlySales</th>\n",
       "    </tr>\n",
       "  </thead>\n",
       "  <tbody>\n",
       "    <tr>\n",
       "      <th>0</th>\n",
       "      <td>1</td>\n",
       "      <td>1</td>\n",
       "      <td>2010-02-05</td>\n",
       "      <td>24924.50</td>\n",
       "      <td>False</td>\n",
       "      <td>A</td>\n",
       "      <td>151315</td>\n",
       "      <td>42.31</td>\n",
       "      <td>2.572</td>\n",
       "      <td>0.0</td>\n",
       "      <td>...</td>\n",
       "      <td>0.0</td>\n",
       "      <td>0.0</td>\n",
       "      <td>0.0</td>\n",
       "      <td>211.096358</td>\n",
       "      <td>8.106</td>\n",
       "      <td>False</td>\n",
       "      <td>2</td>\n",
       "      <td>21710.543621</td>\n",
       "      <td>19213.485088</td>\n",
       "      <td>16008.779217</td>\n",
       "    </tr>\n",
       "    <tr>\n",
       "      <th>1</th>\n",
       "      <td>1</td>\n",
       "      <td>2</td>\n",
       "      <td>2010-02-05</td>\n",
       "      <td>50605.27</td>\n",
       "      <td>False</td>\n",
       "      <td>A</td>\n",
       "      <td>151315</td>\n",
       "      <td>42.31</td>\n",
       "      <td>2.572</td>\n",
       "      <td>0.0</td>\n",
       "      <td>...</td>\n",
       "      <td>0.0</td>\n",
       "      <td>0.0</td>\n",
       "      <td>0.0</td>\n",
       "      <td>211.096358</td>\n",
       "      <td>8.106</td>\n",
       "      <td>False</td>\n",
       "      <td>2</td>\n",
       "      <td>21710.543621</td>\n",
       "      <td>43607.020113</td>\n",
       "      <td>16008.779217</td>\n",
       "    </tr>\n",
       "    <tr>\n",
       "      <th>2</th>\n",
       "      <td>1</td>\n",
       "      <td>3</td>\n",
       "      <td>2010-02-05</td>\n",
       "      <td>13740.12</td>\n",
       "      <td>False</td>\n",
       "      <td>A</td>\n",
       "      <td>151315</td>\n",
       "      <td>42.31</td>\n",
       "      <td>2.572</td>\n",
       "      <td>0.0</td>\n",
       "      <td>...</td>\n",
       "      <td>0.0</td>\n",
       "      <td>0.0</td>\n",
       "      <td>0.0</td>\n",
       "      <td>211.096358</td>\n",
       "      <td>8.106</td>\n",
       "      <td>False</td>\n",
       "      <td>2</td>\n",
       "      <td>21710.543621</td>\n",
       "      <td>11793.698516</td>\n",
       "      <td>16008.779217</td>\n",
       "    </tr>\n",
       "    <tr>\n",
       "      <th>3</th>\n",
       "      <td>1</td>\n",
       "      <td>4</td>\n",
       "      <td>2010-02-05</td>\n",
       "      <td>39954.04</td>\n",
       "      <td>False</td>\n",
       "      <td>A</td>\n",
       "      <td>151315</td>\n",
       "      <td>42.31</td>\n",
       "      <td>2.572</td>\n",
       "      <td>0.0</td>\n",
       "      <td>...</td>\n",
       "      <td>0.0</td>\n",
       "      <td>0.0</td>\n",
       "      <td>0.0</td>\n",
       "      <td>211.096358</td>\n",
       "      <td>8.106</td>\n",
       "      <td>False</td>\n",
       "      <td>2</td>\n",
       "      <td>21710.543621</td>\n",
       "      <td>25974.630238</td>\n",
       "      <td>16008.779217</td>\n",
       "    </tr>\n",
       "    <tr>\n",
       "      <th>4</th>\n",
       "      <td>1</td>\n",
       "      <td>5</td>\n",
       "      <td>2010-02-05</td>\n",
       "      <td>32229.38</td>\n",
       "      <td>False</td>\n",
       "      <td>A</td>\n",
       "      <td>151315</td>\n",
       "      <td>42.31</td>\n",
       "      <td>2.572</td>\n",
       "      <td>0.0</td>\n",
       "      <td>...</td>\n",
       "      <td>0.0</td>\n",
       "      <td>0.0</td>\n",
       "      <td>0.0</td>\n",
       "      <td>211.096358</td>\n",
       "      <td>8.106</td>\n",
       "      <td>False</td>\n",
       "      <td>2</td>\n",
       "      <td>21710.543621</td>\n",
       "      <td>21365.583515</td>\n",
       "      <td>16008.779217</td>\n",
       "    </tr>\n",
       "  </tbody>\n",
       "</table>\n",
       "<p>5 rows × 21 columns</p>\n",
       "</div>"
      ],
      "text/plain": [
       "   Store  Dept        Date  Weekly_Sales  IsHoliday_x Type    Size  \\\n",
       "0      1     1  2010-02-05      24924.50        False    A  151315   \n",
       "1      1     2  2010-02-05      50605.27        False    A  151315   \n",
       "2      1     3  2010-02-05      13740.12        False    A  151315   \n",
       "3      1     4  2010-02-05      39954.04        False    A  151315   \n",
       "4      1     5  2010-02-05      32229.38        False    A  151315   \n",
       "\n",
       "   Temperature  Fuel_Price  MarkDown1  ...  MarkDown3  MarkDown4  MarkDown5  \\\n",
       "0        42.31       2.572        0.0  ...        0.0        0.0        0.0   \n",
       "1        42.31       2.572        0.0  ...        0.0        0.0        0.0   \n",
       "2        42.31       2.572        0.0  ...        0.0        0.0        0.0   \n",
       "3        42.31       2.572        0.0  ...        0.0        0.0        0.0   \n",
       "4        42.31       2.572        0.0  ...        0.0        0.0        0.0   \n",
       "\n",
       "          CPI  Unemployment  IsHoliday_y  Month  AvgWeeklySalesperStore  \\\n",
       "0  211.096358         8.106        False      2            21710.543621   \n",
       "1  211.096358         8.106        False      2            21710.543621   \n",
       "2  211.096358         8.106        False      2            21710.543621   \n",
       "3  211.096358         8.106        False      2            21710.543621   \n",
       "4  211.096358         8.106        False      2            21710.543621   \n",
       "\n",
       "   AvgWeeklySalesperDept  AverageMonthlySales  \n",
       "0           19213.485088         16008.779217  \n",
       "1           43607.020113         16008.779217  \n",
       "2           11793.698516         16008.779217  \n",
       "3           25974.630238         16008.779217  \n",
       "4           21365.583515         16008.779217  \n",
       "\n",
       "[5 rows x 21 columns]"
      ]
     },
     "execution_count": 7,
     "metadata": {},
     "output_type": "execute_result"
    }
   ],
   "source": [
    "retail_data.head()"
   ]
  },
  {
   "cell_type": "markdown",
   "id": "communist-republic",
   "metadata": {},
   "source": [
    "#### Train/Test/Split"
   ]
  },
  {
   "cell_type": "code",
   "execution_count": 8,
   "id": "falling-death",
   "metadata": {},
   "outputs": [
    {
     "data": {
      "text/plain": [
       "Store                       int64\n",
       "Dept                        int64\n",
       "Date                       object\n",
       "Weekly_Sales              float64\n",
       "IsHoliday_x                  bool\n",
       "Type                       object\n",
       "Size                        int64\n",
       "Temperature               float64\n",
       "Fuel_Price                float64\n",
       "MarkDown1                 float64\n",
       "MarkDown2                 float64\n",
       "MarkDown3                 float64\n",
       "MarkDown4                 float64\n",
       "MarkDown5                 float64\n",
       "CPI                       float64\n",
       "Unemployment              float64\n",
       "IsHoliday_y                  bool\n",
       "Month                       int64\n",
       "AvgWeeklySalesperStore    float64\n",
       "AvgWeeklySalesperDept     float64\n",
       "AverageMonthlySales       float64\n",
       "dtype: object"
      ]
     },
     "execution_count": 8,
     "metadata": {},
     "output_type": "execute_result"
    }
   ],
   "source": [
    "#Check data types of retail_data \n",
    "retail_data.dtypes"
   ]
  },
  {
   "cell_type": "markdown",
   "id": "shaped-roots",
   "metadata": {},
   "source": [
    "Seperate categorical and numerical columns"
   ]
  },
  {
   "cell_type": "code",
   "execution_count": 9,
   "id": "pleasant-large",
   "metadata": {},
   "outputs": [],
   "source": [
    "#Let's do our feature selection.\n",
    "#Make a variable called 'features', and a list containing all Categorical(object) types columns \n",
    "features = ['Store','Type','Dept']"
   ]
  },
  {
   "cell_type": "code",
   "execution_count": 10,
   "id": "egyptian-concentrate",
   "metadata": {},
   "outputs": [],
   "source": [
    "X= retail_data[features]"
   ]
  },
  {
   "cell_type": "markdown",
   "id": "honest-north",
   "metadata": {},
   "source": [
    "##### Create Dummies for categorical columns"
   ]
  },
  {
   "cell_type": "code",
   "execution_count": 11,
   "id": "structural-basic",
   "metadata": {},
   "outputs": [],
   "source": [
    "#Creating dummies for the features columns\n",
    "X= pd.get_dummies(X)   "
   ]
  },
  {
   "cell_type": "code",
   "execution_count": 12,
   "id": "dental-capture",
   "metadata": {},
   "outputs": [],
   "source": [
    "# Make a dependent variable called y, and assign it the column which we have to predict\n",
    "y= retail_data.Weekly_Sales"
   ]
  },
  {
   "cell_type": "code",
   "execution_count": 13,
   "id": "meaningful-focus",
   "metadata": {},
   "outputs": [],
   "source": [
    "#Make a variable called numerical and a list containing all Numerical columns\n",
    "X_numerical= retail_data.drop(['Date','Store','Type','Dept','Weekly_Sales'], axis=1)"
   ]
  },
  {
   "cell_type": "markdown",
   "id": "prompt-needle",
   "metadata": {},
   "source": [
    "Now Recombine the categorical and numerical columns. "
   ]
  },
  {
   "cell_type": "code",
   "execution_count": 14,
   "id": "conditional-environment",
   "metadata": {},
   "outputs": [],
   "source": [
    "X_merged= X.merge(X_numerical, left_index=True, right_index=True)"
   ]
  },
  {
   "cell_type": "code",
   "execution_count": 15,
   "id": "considered-senator",
   "metadata": {},
   "outputs": [],
   "source": [
    "#features.append(X_numerical) # append 'X_numerical' list to features list.\n",
    "#Ref: https://www.w3schools.com/python/gloss_python_join_lists.asp     # for lists, not suitable for df."
   ]
  },
  {
   "cell_type": "markdown",
   "id": "sound-stack",
   "metadata": {},
   "source": [
    "##### Time-Series split"
   ]
  },
  {
   "cell_type": "code",
   "execution_count": 16,
   "id": "alpha-technical",
   "metadata": {},
   "outputs": [],
   "source": [
    "from sklearn.model_selection import TimeSeriesSplit\n",
    "tscv = TimeSeriesSplit(n_splits=2, max_train_size=None, test_size=None, gap=0)\n",
    "#X_test, y_train, y_test\n",
    "for train_index, test_index in tscv.split(X_merged):\n",
    "#train_index, test_index = tscv.split(X_merged)\n",
    "    X_train, X_test = X_merged.loc[train_index], X_merged.loc[test_index]\n",
    "    y_train, y_test = y[train_index], y[test_index]\n",
    "                                                             #use .loc for X_merged since it's a df"
   ]
  },
  {
   "cell_type": "markdown",
   "id": "electoral-graphic",
   "metadata": {},
   "source": [
    "Refer :https://scikit-learn.org/stable/modules/generated/sklearn.model_selection.TimeSeriesSplit.html\n",
    "ref:https://stackoverflow.com/questions/45352909/pandas-indexingerror-unalignable-boolean-series-provided-as-indexer "
   ]
  },
  {
   "cell_type": "code",
   "execution_count": 17,
   "id": "happy-watson",
   "metadata": {},
   "outputs": [],
   "source": [
    "#Call train_test_split on X, y. Make the test_size = 0.25, and random_state = 123\n",
    "#X_train, X_test, y_train, y_test= train_test_split(X, y, \n",
    " #                                                test_size = 0.25,\n",
    "  #                                               random_state = 123)"
   ]
  },
  {
   "cell_type": "markdown",
   "id": "rotary-qatar",
   "metadata": {},
   "source": [
    "##### Scale the numerical columns to prep for model creation"
   ]
  },
  {
   "cell_type": "code",
   "execution_count": 18,
   "id": "designing-video",
   "metadata": {},
   "outputs": [],
   "source": [
    "#scale data\n",
    "from sklearn import preprocessing\n",
    "import numpy as np\n",
    "# build scaler based on training data and apply it to test data to then also scale the test data\n",
    "scaler = preprocessing.StandardScaler().fit(X_numerical)\n",
    "X_numerical_scaled=scaler.transform(X_numerical)\n",
    "#X_test_scaled=scaler.transform(X_test)"
   ]
  },
  {
   "cell_type": "code",
   "execution_count": 19,
   "id": "sticky-speed",
   "metadata": {},
   "outputs": [],
   "source": [
    "#scale data\n",
    "#from sklearn import preprocessing\n",
    "#import numpy as np\n",
    "# build scaler based on training data and apply it to test data to then also scale the test data\n",
    "#scaler = preprocessing.StandardScaler().fit(X_train)\n",
    "#X_train_scaled=scaler.transform(X_train)\n",
    "#X_test_scaled=scaler.transform(X_test)"
   ]
  },
  {
   "cell_type": "code",
   "execution_count": 20,
   "id": "tropical-tactics",
   "metadata": {},
   "outputs": [],
   "source": [
    "#print(X_numerical_scaled)"
   ]
  },
  {
   "cell_type": "code",
   "execution_count": 21,
   "id": "atmospheric-agenda",
   "metadata": {},
   "outputs": [
    {
     "data": {
      "text/plain": [
       "Store                       int64\n",
       "Dept                        int64\n",
       "Date                       object\n",
       "Weekly_Sales              float64\n",
       "IsHoliday_x                  bool\n",
       "Type                       object\n",
       "Size                        int64\n",
       "Temperature               float64\n",
       "Fuel_Price                float64\n",
       "MarkDown1                 float64\n",
       "MarkDown2                 float64\n",
       "MarkDown3                 float64\n",
       "MarkDown4                 float64\n",
       "MarkDown5                 float64\n",
       "CPI                       float64\n",
       "Unemployment              float64\n",
       "IsHoliday_y                  bool\n",
       "Month                       int64\n",
       "AvgWeeklySalesperStore    float64\n",
       "AvgWeeklySalesperDept     float64\n",
       "AverageMonthlySales       float64\n",
       "dtype: object"
      ]
     },
     "execution_count": 21,
     "metadata": {},
     "output_type": "execute_result"
    }
   ],
   "source": [
    "retail_data.dtypes"
   ]
  },
  {
   "cell_type": "markdown",
   "id": "pressed-cabin",
   "metadata": {},
   "source": [
    "Notice the 'date' column is object. Let's convert it to python datetime.  If we want to do time series manipulation, we’ll need to have a date time index so that our data frame is indexed on the timestamp. "
   ]
  },
  {
   "cell_type": "markdown",
   "id": "supreme-voice",
   "metadata": {},
   "source": [
    "Now, to do time series analysis on a Pandas dataframe is overkill, and is actually counter-productive. It's much more easy to carry out this type of analysis if we convert our data to a series first!!"
   ]
  },
  {
   "cell_type": "code",
   "execution_count": 22,
   "id": "faced-chuck",
   "metadata": {},
   "outputs": [],
   "source": [
    "retail_data['Date']= pd.to_datetime(retail_data['Date'])\n",
    "retail_data.set_index('Date', inplace=True)"
   ]
  },
  {
   "cell_type": "code",
   "execution_count": 23,
   "id": "general-aerospace",
   "metadata": {},
   "outputs": [
    {
     "data": {
      "text/html": [
       "<div>\n",
       "<style scoped>\n",
       "    .dataframe tbody tr th:only-of-type {\n",
       "        vertical-align: middle;\n",
       "    }\n",
       "\n",
       "    .dataframe tbody tr th {\n",
       "        vertical-align: top;\n",
       "    }\n",
       "\n",
       "    .dataframe thead th {\n",
       "        text-align: right;\n",
       "    }\n",
       "</style>\n",
       "<table border=\"1\" class=\"dataframe\">\n",
       "  <thead>\n",
       "    <tr style=\"text-align: right;\">\n",
       "      <th></th>\n",
       "      <th>Store</th>\n",
       "      <th>Dept</th>\n",
       "      <th>Weekly_Sales</th>\n",
       "      <th>IsHoliday_x</th>\n",
       "      <th>Type</th>\n",
       "      <th>Size</th>\n",
       "      <th>Temperature</th>\n",
       "      <th>Fuel_Price</th>\n",
       "      <th>MarkDown1</th>\n",
       "      <th>MarkDown2</th>\n",
       "      <th>MarkDown3</th>\n",
       "      <th>MarkDown4</th>\n",
       "      <th>MarkDown5</th>\n",
       "      <th>CPI</th>\n",
       "      <th>Unemployment</th>\n",
       "      <th>IsHoliday_y</th>\n",
       "      <th>Month</th>\n",
       "      <th>AvgWeeklySalesperStore</th>\n",
       "      <th>AvgWeeklySalesperDept</th>\n",
       "      <th>AverageMonthlySales</th>\n",
       "    </tr>\n",
       "    <tr>\n",
       "      <th>Date</th>\n",
       "      <th></th>\n",
       "      <th></th>\n",
       "      <th></th>\n",
       "      <th></th>\n",
       "      <th></th>\n",
       "      <th></th>\n",
       "      <th></th>\n",
       "      <th></th>\n",
       "      <th></th>\n",
       "      <th></th>\n",
       "      <th></th>\n",
       "      <th></th>\n",
       "      <th></th>\n",
       "      <th></th>\n",
       "      <th></th>\n",
       "      <th></th>\n",
       "      <th></th>\n",
       "      <th></th>\n",
       "      <th></th>\n",
       "      <th></th>\n",
       "    </tr>\n",
       "  </thead>\n",
       "  <tbody>\n",
       "    <tr>\n",
       "      <th>2010-02-05</th>\n",
       "      <td>1</td>\n",
       "      <td>1</td>\n",
       "      <td>24924.50</td>\n",
       "      <td>False</td>\n",
       "      <td>A</td>\n",
       "      <td>151315</td>\n",
       "      <td>42.31</td>\n",
       "      <td>2.572</td>\n",
       "      <td>0.0</td>\n",
       "      <td>0.0</td>\n",
       "      <td>0.0</td>\n",
       "      <td>0.0</td>\n",
       "      <td>0.0</td>\n",
       "      <td>211.096358</td>\n",
       "      <td>8.106</td>\n",
       "      <td>False</td>\n",
       "      <td>2</td>\n",
       "      <td>21710.543621</td>\n",
       "      <td>19213.485088</td>\n",
       "      <td>16008.779217</td>\n",
       "    </tr>\n",
       "    <tr>\n",
       "      <th>2010-02-05</th>\n",
       "      <td>1</td>\n",
       "      <td>2</td>\n",
       "      <td>50605.27</td>\n",
       "      <td>False</td>\n",
       "      <td>A</td>\n",
       "      <td>151315</td>\n",
       "      <td>42.31</td>\n",
       "      <td>2.572</td>\n",
       "      <td>0.0</td>\n",
       "      <td>0.0</td>\n",
       "      <td>0.0</td>\n",
       "      <td>0.0</td>\n",
       "      <td>0.0</td>\n",
       "      <td>211.096358</td>\n",
       "      <td>8.106</td>\n",
       "      <td>False</td>\n",
       "      <td>2</td>\n",
       "      <td>21710.543621</td>\n",
       "      <td>43607.020113</td>\n",
       "      <td>16008.779217</td>\n",
       "    </tr>\n",
       "    <tr>\n",
       "      <th>2010-02-05</th>\n",
       "      <td>1</td>\n",
       "      <td>3</td>\n",
       "      <td>13740.12</td>\n",
       "      <td>False</td>\n",
       "      <td>A</td>\n",
       "      <td>151315</td>\n",
       "      <td>42.31</td>\n",
       "      <td>2.572</td>\n",
       "      <td>0.0</td>\n",
       "      <td>0.0</td>\n",
       "      <td>0.0</td>\n",
       "      <td>0.0</td>\n",
       "      <td>0.0</td>\n",
       "      <td>211.096358</td>\n",
       "      <td>8.106</td>\n",
       "      <td>False</td>\n",
       "      <td>2</td>\n",
       "      <td>21710.543621</td>\n",
       "      <td>11793.698516</td>\n",
       "      <td>16008.779217</td>\n",
       "    </tr>\n",
       "    <tr>\n",
       "      <th>2010-02-05</th>\n",
       "      <td>1</td>\n",
       "      <td>4</td>\n",
       "      <td>39954.04</td>\n",
       "      <td>False</td>\n",
       "      <td>A</td>\n",
       "      <td>151315</td>\n",
       "      <td>42.31</td>\n",
       "      <td>2.572</td>\n",
       "      <td>0.0</td>\n",
       "      <td>0.0</td>\n",
       "      <td>0.0</td>\n",
       "      <td>0.0</td>\n",
       "      <td>0.0</td>\n",
       "      <td>211.096358</td>\n",
       "      <td>8.106</td>\n",
       "      <td>False</td>\n",
       "      <td>2</td>\n",
       "      <td>21710.543621</td>\n",
       "      <td>25974.630238</td>\n",
       "      <td>16008.779217</td>\n",
       "    </tr>\n",
       "    <tr>\n",
       "      <th>2010-02-05</th>\n",
       "      <td>1</td>\n",
       "      <td>5</td>\n",
       "      <td>32229.38</td>\n",
       "      <td>False</td>\n",
       "      <td>A</td>\n",
       "      <td>151315</td>\n",
       "      <td>42.31</td>\n",
       "      <td>2.572</td>\n",
       "      <td>0.0</td>\n",
       "      <td>0.0</td>\n",
       "      <td>0.0</td>\n",
       "      <td>0.0</td>\n",
       "      <td>0.0</td>\n",
       "      <td>211.096358</td>\n",
       "      <td>8.106</td>\n",
       "      <td>False</td>\n",
       "      <td>2</td>\n",
       "      <td>21710.543621</td>\n",
       "      <td>21365.583515</td>\n",
       "      <td>16008.779217</td>\n",
       "    </tr>\n",
       "  </tbody>\n",
       "</table>\n",
       "</div>"
      ],
      "text/plain": [
       "            Store  Dept  Weekly_Sales  IsHoliday_x Type    Size  Temperature  \\\n",
       "Date                                                                           \n",
       "2010-02-05      1     1      24924.50        False    A  151315        42.31   \n",
       "2010-02-05      1     2      50605.27        False    A  151315        42.31   \n",
       "2010-02-05      1     3      13740.12        False    A  151315        42.31   \n",
       "2010-02-05      1     4      39954.04        False    A  151315        42.31   \n",
       "2010-02-05      1     5      32229.38        False    A  151315        42.31   \n",
       "\n",
       "            Fuel_Price  MarkDown1  MarkDown2  MarkDown3  MarkDown4  MarkDown5  \\\n",
       "Date                                                                            \n",
       "2010-02-05       2.572        0.0        0.0        0.0        0.0        0.0   \n",
       "2010-02-05       2.572        0.0        0.0        0.0        0.0        0.0   \n",
       "2010-02-05       2.572        0.0        0.0        0.0        0.0        0.0   \n",
       "2010-02-05       2.572        0.0        0.0        0.0        0.0        0.0   \n",
       "2010-02-05       2.572        0.0        0.0        0.0        0.0        0.0   \n",
       "\n",
       "                   CPI  Unemployment  IsHoliday_y  Month  \\\n",
       "Date                                                       \n",
       "2010-02-05  211.096358         8.106        False      2   \n",
       "2010-02-05  211.096358         8.106        False      2   \n",
       "2010-02-05  211.096358         8.106        False      2   \n",
       "2010-02-05  211.096358         8.106        False      2   \n",
       "2010-02-05  211.096358         8.106        False      2   \n",
       "\n",
       "            AvgWeeklySalesperStore  AvgWeeklySalesperDept  AverageMonthlySales  \n",
       "Date                                                                            \n",
       "2010-02-05            21710.543621           19213.485088         16008.779217  \n",
       "2010-02-05            21710.543621           43607.020113         16008.779217  \n",
       "2010-02-05            21710.543621           11793.698516         16008.779217  \n",
       "2010-02-05            21710.543621           25974.630238         16008.779217  \n",
       "2010-02-05            21710.543621           21365.583515         16008.779217  "
      ]
     },
     "execution_count": 23,
     "metadata": {},
     "output_type": "execute_result"
    }
   ],
   "source": [
    "retail_data.head()"
   ]
  },
  {
   "cell_type": "markdown",
   "id": "artistic-burns",
   "metadata": {},
   "source": [
    "Now we can see that our dataframe is indexed by date, as time-series should be . "
   ]
  },
  {
   "cell_type": "markdown",
   "id": "grand-compatibility",
   "metadata": {},
   "source": [
    "Should i use all features ? Should I perform TIME SERIES analysis on entire dataframe or only on select columns(pd.series)? "
   ]
  },
  {
   "cell_type": "code",
   "execution_count": 24,
   "id": "accepted-repair",
   "metadata": {},
   "outputs": [],
   "source": [
    "#X_new = retail_data.drop(['Weekly_Sales'], axis=1)"
   ]
  },
  {
   "cell_type": "code",
   "execution_count": 25,
   "id": "fresh-bedroom",
   "metadata": {},
   "outputs": [],
   "source": [
    "y = retail_data.Weekly_Sales"
   ]
  },
  {
   "cell_type": "code",
   "execution_count": 26,
   "id": "individual-lemon",
   "metadata": {},
   "outputs": [
    {
     "data": {
      "text/plain": [
       "pandas.core.series.Series"
      ]
     },
     "execution_count": 26,
     "metadata": {},
     "output_type": "execute_result"
    }
   ],
   "source": [
    "#Check the type of y. \n",
    "type(y)"
   ]
  },
  {
   "cell_type": "markdown",
   "id": "passing-kruger",
   "metadata": {},
   "source": [
    "We can see that y is of Series datatype"
   ]
  },
  {
   "cell_type": "code",
   "execution_count": 27,
   "id": "dramatic-arabic",
   "metadata": {},
   "outputs": [
    {
     "data": {
      "text/plain": [
       "[<matplotlib.lines.Line2D at 0x7f9a11579f10>]"
      ]
     },
     "execution_count": 27,
     "metadata": {},
     "output_type": "execute_result"
    },
    {
     "data": {
      "image/png": "[encoded data removed]",
      "text/plain": [
       "<Figure size 1296x720 with 1 Axes>"
      ]
     },
     "metadata": {
      "needs_background": "light"
     },
     "output_type": "display_data"
    }
   ],
   "source": [
    "plt.figure(figsize=(18,10))\n",
    "plt.plot(y)"
   ]
  },
  {
   "cell_type": "markdown",
   "id": "polished-keeping",
   "metadata": {},
   "source": [
    "We can see some seasonality in data. Trend ? Noise ??"
   ]
  },
  {
   "cell_type": "code",
   "execution_count": 28,
   "id": "contrary-rates",
   "metadata": {},
   "outputs": [],
   "source": [
    "#Does this look ok?? #Is this ready for modeling now ? or does it require more work ?"
   ]
  },
  {
   "cell_type": "code",
   "execution_count": null,
   "id": "packed-village",
   "metadata": {},
   "outputs": [],
   "source": [
    "#And also , we are doing Time series analysis only on Date column right? "
   ]
  }
 ],
 "metadata": {
  "kernelspec": {
   "display_name": "Python 3",
   "language": "python",
   "name": "python3"
  },
  "language_info": {
   "codemirror_mode": {
    "name": "ipython",
    "version": 3
   },
   "file_extension": ".py",
   "mimetype": "text/x-python",
   "name": "python",
   "nbconvert_exporter": "python",
   "pygments_lexer": "ipython3",
   "version": "3.8.8"
  }
 },
 "nbformat": 4,
 "nbformat_minor": 5
}
